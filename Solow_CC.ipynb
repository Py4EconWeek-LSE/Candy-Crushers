{
  "nbformat": 4,
  "nbformat_minor": 0,
  "metadata": {
    "colab": {
      "name": "Solow_CC.ipynb",
      "provenance": [],
      "collapsed_sections": [],
      "include_colab_link": true
    },
    "kernelspec": {
      "name": "python3",
      "display_name": "Python 3"
    }
  },
  "cells": [
    {
      "cell_type": "markdown",
      "metadata": {
        "id": "view-in-github",
        "colab_type": "text"
      },
      "source": [
        "<a href=\"https://colab.research.google.com/github/Py4EconWeek-LSE/Candy-Crushers/blob/class-solow/Solow_CC.ipynb\" target=\"_parent\"><img src=\"https://colab.research.google.com/assets/colab-badge.svg\" alt=\"Open In Colab\"/></a>"
      ]
    },
    {
      "cell_type": "code",
      "metadata": {
        "id": "mHo8pLUdY1_T"
      },
      "source": [
        "import pandas as pd\n",
        "import numpy as np\n",
        "import matplotlib.pyplot as plt\n",
        "\n",
        "import statsmodels.api as sm\n",
        "import statsmodels.formula.api as smf"
      ],
      "execution_count": null,
      "outputs": []
    },
    {
      "cell_type": "code",
      "metadata": {
        "id": "Dnvp7XnuZa70"
      },
      "source": [
        "class Solow:\r\n",
        "    \r\n",
        "    def __init__(self, n, s, d, a, g, k_1, labour, labour_eff):\r\n",
        "        self.n = n #growth rate of labour\r\n",
        "        self.s = s #savings rate\r\n",
        "        self.d = d #depreciation rate\r\n",
        "        self.a = a #capital share coefficient\r\n",
        "        self.g = g #growth rate of technology\r\n",
        "        self.k_1 = k_1 #current capital per worker\r\n",
        "        self.k_sequence = []    \r\n",
        "        self.agg_values = []  \r\n",
        "        self.y_per_worker_series = [] #output and capital per worker \r\n",
        "        self.k_per_worker_series = []\r\n",
        "        self.labour = labour\r\n",
        "        self.labour_eff = labour_eff\r\n",
        "   \r\n",
        "        \r\n",
        "    def RHS_calc(self):\r\n",
        "        Numerator = (self.s * (self.k_1 ** self.a)) + ((1 - self.d) * self.k_1)\r\n",
        "        Denominator = (1 + self.g) * (1 + self.n)\r\n",
        "        k_2 = Numerator/Denominator\r\n",
        "        return k_2\r\n",
        "    \r\n",
        "    def update_k(self, k):\r\n",
        "        self.k_1 = k\r\n",
        "\r\n",
        "    def sequence(self, t):\r\n",
        "        x = range(0, t)\r\n",
        "        self.k_sequence.append(self.k_1)\r\n",
        "        for y in x :            \r\n",
        "           self.k_sequence.append(self.RHS_calc()) \r\n",
        "           self.update_k(self.RHS_calc())\r\n",
        "            \r\n",
        "    def steady_state(self):\r\n",
        "        denom = self.g + self.n + self.d + (self.g * self.n)\r\n",
        "        power = 1/(1 - self.a)\r\n",
        "        s_state = (self.s/denom) ** power\r\n",
        "        return s_state\r\n",
        "    \r\n",
        "    def steady(self):\r\n",
        "        k1 = self.k_1\r\n",
        "        k2 = 0\r\n",
        "        k3 = k1\r\n",
        "        while k1 != k2:\r\n",
        "            k1 = self.k_1\r\n",
        "            self.update_k(self.RHS_calc()) \r\n",
        "            k2 = self.k_1   \r\n",
        "        return k2\r\n",
        "        self.update_k(k3)\r\n",
        "\r\n",
        "#Add a method that computes the value of the aggregate variables from a value of  𝑘 ,  𝐴,  and  𝐿 \r\n",
        "    def aggregate_value(self):\r\n",
        "        agg_capital = (self.k_1 * self.labour * self.labour_eff) \r\n",
        "        self.agg_values.append(agg_capital)\r\n",
        "        agg_efficient_labour = (self.labour_eff * self.labour)\r\n",
        "        self.agg_values.append(agg_efficient_labour)\r\n",
        "        agg_output = (agg_capital ** self.a) * (agg_efficient_labour ** (1-self.a))\r\n",
        "        self.agg_values.append(agg_output)\r\n",
        "        return self.agg_values\r\n",
        "\r\n",
        "#Add a method that computes the per worker variables\r\n",
        "    def per_worker(self):\r\n",
        "        y_per_worker = self.agg_values[2]/self.labour     \r\n",
        "        k_per_worker = self.agg_values[0]/self.labour\r\n",
        "        per_worker_list = [y_per_worker, k_per_worker]\r\n",
        "        return per_worker_list      "
      ],
      "execution_count": null,
      "outputs": []
    },
    {
      "cell_type": "code",
      "metadata": {
        "id": "NUSXph1oJ8xC",
        "colab": {
          "base_uri": "https://localhost:8080/"
        },
        "outputId": "4bc7ba62-12b4-4582-dfbe-f3c727444c19"
      },
      "source": [
        "x = Solow(n = 0.02, s = 0.17, d = 0.1, a = 0.33, g = 0.01, k_1 = 10, labour = 10, labour_eff = 1.2)"
      ],
      "execution_count": null,
      "outputs": [
        {
          "output_type": "stream",
          "text": [
            "[2.565554507402678, 12.0]\n"
          ],
          "name": "stdout"
        }
      ]
    },
    {
      "cell_type": "code",
      "metadata": {
        "id": "vajFRbjrimKg"
      },
      "source": [
        "class Solow:\n",
        "    \n",
        "    def __init__(self, n, s, d, a, g, k_1, labour, labour_eff):\n",
        "        self.n = n #growth rate of labour\n",
        "        self.s = s #savings rate\n",
        "        self.d = d #depreciation rate\n",
        "        self.a = a #capital share coefficient\n",
        "        self.g = g #growth rate of technology\n",
        "        self.k_1 = k_1 #current capital stock\n",
        "        self.labour = labour\n",
        "        self.labour_eff = labour_eff\n",
        "        self.k_sequence = []\n",
        "        self.agg_values = []\n",
        "        self.y_per_worker = []\n",
        "        self.k_per_worker = []\n",
        "    \n",
        "    def RHS_calc(self):\n",
        "        Numerator = (self.s * (self.k_1 ** self.a)) + ((1 - self.d) * self.k_1)\n",
        "        Denominator = (1 + self.g) * (1 + self.n)\n",
        "        k_2 = Numerator/Denominator\n",
        "        return k_2\n",
        "    \n",
        "    def update_k(self, k):\n",
        "        self.k_1 = k\n",
        "\n",
        "    def sequence(self, t):\n",
        "        x = range(0, t)\n",
        "        self.k_sequence.append(self.k_1)\n",
        "        for y in x :            \n",
        "           self.k_sequence.append(self.RHS_calc()) \n",
        "           self.update_k(self.RHS_calc())\n",
        "            \n",
        "#Add a method that calculates the steady state        \n",
        "    def steady_state(self):\n",
        "        denom = self.g + self.n + self.d + (self.g * self.n)\n",
        "        power = 1/(1 - self.a)\n",
        "        s_state = (self.s/denom) ** power\n",
        "        return s_state\n",
        "    \n",
        "    def steady(self):\n",
        "        k1 = self.k_1\n",
        "        k2 = 0\n",
        "        k3 = k1\n",
        "        while k1 != k2:\n",
        "            k1 = self.k_1\n",
        "            self.update_k(self.RHS_calc()) \n",
        "            k2 = self.k_1   \n",
        "        return k2\n",
        "        self.update_k()\n",
        "            \n",
        "#Add a method that computes the value of the aggregate variables from a value of  𝑘 ,  𝐴,  and  𝐿\n",
        "    def aggregate_value(self):\n",
        "        agg_capital = (self.k_1 * self.labour * self.labour_eff) \n",
        "        self.agg_values.append(agg_capital)\n",
        "        agg_efficient_labour = (self.labour_eff * self.labour)\n",
        "        self.agg_values.append(agg_efficient_labour)\n",
        "        agg_output = (agg_capital ** self.a) * (agg_efficient_labour ** (1-self.a))\n",
        "        self.agg_values.append(agg_output)\n",
        "        return self.agg_values\n",
        "        \n",
        "    def per_worker(self):\n",
        "        y = self.agg_values[2]/self.labour\n",
        "        k = self.agg_values[0]/self.labour\n",
        "        per_worker_list = [y, k]\n",
        "        return per_worker_list\n",
        "    \n",
        "    def y_series(self, t):\n",
        "        y=0 \n",
        "        for y in range(t):\n",
        "            self.aggregate_value()\n",
        "            self.labour = self.labour*(1 + self.n)\n",
        "            self.y_per_worker.append(self.per_worker()[0])\n",
        "            self.update_k(self.RHS_calc())\n",
        "            y = y+1     \n",
        "        \n",
        "    def k_series(self, t):\n",
        "        y=0 \n",
        "        for y in range(t):\n",
        "            self.aggregate_value()\n",
        "            self.labour = self.labour*(1 + self.n)\n",
        "            self.k_per_worker.append(self.per_worker()[1])\n",
        "            self.update_k(self.RHS_calc())\n",
        "            y = y+1 "
      ],
      "execution_count": null,
      "outputs": []
    },
    {
      "cell_type": "markdown",
      "metadata": {
        "id": "1SkXXHU7J7_M"
      },
      "source": [
        ""
      ]
    }
  ]
}